{
 "cells": [
  {
   "cell_type": "markdown",
   "metadata": {},
   "source": [
    "<h1>Predicting high BP</h1>"
   ]
  },
  {
   "cell_type": "markdown",
   "metadata": {},
   "source": [
    "<script>\n",
    "alert(\"Playing with fire\");\n",
    "</script>"
   ]
  },
  {
   "cell_type": "code",
   "execution_count": 1,
   "metadata": {},
   "outputs": [],
   "source": [
    "import pandas as pd\n",
    "import csv as csv\n",
    "import numpy as np\n",
    "\n",
    "df = pd.read_csv('smoking.csv')"
   ]
  },
  {
   "cell_type": "code",
   "execution_count": 2,
   "metadata": {},
   "outputs": [
    {
     "data": {
      "text/html": [
       "<div>\n",
       "<style scoped>\n",
       "    .dataframe tbody tr th:only-of-type {\n",
       "        vertical-align: middle;\n",
       "    }\n",
       "\n",
       "    .dataframe tbody tr th {\n",
       "        vertical-align: top;\n",
       "    }\n",
       "\n",
       "    .dataframe thead th {\n",
       "        text-align: right;\n",
       "    }\n",
       "</style>\n",
       "<table border=\"1\" class=\"dataframe\">\n",
       "  <thead>\n",
       "    <tr style=\"text-align: right;\">\n",
       "      <th></th>\n",
       "      <th>SEQN</th>\n",
       "      <th>SDPPSU6</th>\n",
       "      <th>SDPSTRA6</th>\n",
       "      <th>WTPFHX6</th>\n",
       "      <th>HSAGEIR</th>\n",
       "      <th>HSSEX</th>\n",
       "      <th>DMARACER</th>\n",
       "      <th>BMPWTLBS</th>\n",
       "      <th>BMPHTIN</th>\n",
       "      <th>PEPMNK1R</th>\n",
       "      <th>PEPMNK5R</th>\n",
       "      <th>HAR1</th>\n",
       "      <th>HAR3</th>\n",
       "      <th>SMOKE</th>\n",
       "      <th>TCP</th>\n",
       "      <th>HBP</th>\n",
       "    </tr>\n",
       "  </thead>\n",
       "  <tbody>\n",
       "    <tr>\n",
       "      <th>0</th>\n",
       "      <td>3.0</td>\n",
       "      <td>1.0</td>\n",
       "      <td>44.0</td>\n",
       "      <td>1735.14</td>\n",
       "      <td>21.0</td>\n",
       "      <td>1.0</td>\n",
       "      <td>1.0</td>\n",
       "      <td>179.5</td>\n",
       "      <td>70.4</td>\n",
       "      <td>120.0</td>\n",
       "      <td>67.0</td>\n",
       "      <td>2.0</td>\n",
       "      <td>NaN</td>\n",
       "      <td>1.0</td>\n",
       "      <td>268.0</td>\n",
       "      <td>0</td>\n",
       "    </tr>\n",
       "    <tr>\n",
       "      <th>1</th>\n",
       "      <td>4.0</td>\n",
       "      <td>1.0</td>\n",
       "      <td>43.0</td>\n",
       "      <td>1725.01</td>\n",
       "      <td>32.0</td>\n",
       "      <td>0.0</td>\n",
       "      <td>1.0</td>\n",
       "      <td>135.6</td>\n",
       "      <td>63.9</td>\n",
       "      <td>126.0</td>\n",
       "      <td>86.0</td>\n",
       "      <td>2.0</td>\n",
       "      <td>NaN</td>\n",
       "      <td>1.0</td>\n",
       "      <td>160.0</td>\n",
       "      <td>0</td>\n",
       "    </tr>\n",
       "    <tr>\n",
       "      <th>2</th>\n",
       "      <td>9.0</td>\n",
       "      <td>2.0</td>\n",
       "      <td>43.0</td>\n",
       "      <td>19451.83</td>\n",
       "      <td>48.0</td>\n",
       "      <td>0.0</td>\n",
       "      <td>1.0</td>\n",
       "      <td>149.7</td>\n",
       "      <td>61.8</td>\n",
       "      <td>131.0</td>\n",
       "      <td>73.0</td>\n",
       "      <td>1.0</td>\n",
       "      <td>2.0</td>\n",
       "      <td>2.0</td>\n",
       "      <td>236.0</td>\n",
       "      <td>0</td>\n",
       "    </tr>\n",
       "    <tr>\n",
       "      <th>3</th>\n",
       "      <td>10.0</td>\n",
       "      <td>1.0</td>\n",
       "      <td>6.0</td>\n",
       "      <td>27769.56</td>\n",
       "      <td>35.0</td>\n",
       "      <td>1.0</td>\n",
       "      <td>1.0</td>\n",
       "      <td>203.5</td>\n",
       "      <td>69.8</td>\n",
       "      <td>130.0</td>\n",
       "      <td>82.0</td>\n",
       "      <td>2.0</td>\n",
       "      <td>NaN</td>\n",
       "      <td>1.0</td>\n",
       "      <td>225.0</td>\n",
       "      <td>0</td>\n",
       "    </tr>\n",
       "    <tr>\n",
       "      <th>4</th>\n",
       "      <td>11.0</td>\n",
       "      <td>2.0</td>\n",
       "      <td>40.0</td>\n",
       "      <td>1245.52</td>\n",
       "      <td>48.0</td>\n",
       "      <td>1.0</td>\n",
       "      <td>1.0</td>\n",
       "      <td>155.3</td>\n",
       "      <td>66.2</td>\n",
       "      <td>120.0</td>\n",
       "      <td>70.0</td>\n",
       "      <td>1.0</td>\n",
       "      <td>2.0</td>\n",
       "      <td>2.0</td>\n",
       "      <td>260.0</td>\n",
       "      <td>0</td>\n",
       "    </tr>\n",
       "    <tr>\n",
       "      <th>...</th>\n",
       "      <td>...</td>\n",
       "      <td>...</td>\n",
       "      <td>...</td>\n",
       "      <td>...</td>\n",
       "      <td>...</td>\n",
       "      <td>...</td>\n",
       "      <td>...</td>\n",
       "      <td>...</td>\n",
       "      <td>...</td>\n",
       "      <td>...</td>\n",
       "      <td>...</td>\n",
       "      <td>...</td>\n",
       "      <td>...</td>\n",
       "      <td>...</td>\n",
       "      <td>...</td>\n",
       "      <td>...</td>\n",
       "    </tr>\n",
       "    <tr>\n",
       "      <th>17026</th>\n",
       "      <td>53589.0</td>\n",
       "      <td>2.0</td>\n",
       "      <td>8.0</td>\n",
       "      <td>4667.32</td>\n",
       "      <td>81.0</td>\n",
       "      <td>0.0</td>\n",
       "      <td>1.0</td>\n",
       "      <td>190.2</td>\n",
       "      <td>61.8</td>\n",
       "      <td>129.0</td>\n",
       "      <td>72.0</td>\n",
       "      <td>1.0</td>\n",
       "      <td>2.0</td>\n",
       "      <td>2.0</td>\n",
       "      <td>168.0</td>\n",
       "      <td>0</td>\n",
       "    </tr>\n",
       "    <tr>\n",
       "      <th>17027</th>\n",
       "      <td>53593.0</td>\n",
       "      <td>2.0</td>\n",
       "      <td>17.0</td>\n",
       "      <td>18911.40</td>\n",
       "      <td>23.0</td>\n",
       "      <td>1.0</td>\n",
       "      <td>1.0</td>\n",
       "      <td>172.7</td>\n",
       "      <td>76.2</td>\n",
       "      <td>123.0</td>\n",
       "      <td>83.0</td>\n",
       "      <td>2.0</td>\n",
       "      <td>NaN</td>\n",
       "      <td>1.0</td>\n",
       "      <td>188.0</td>\n",
       "      <td>0</td>\n",
       "    </tr>\n",
       "    <tr>\n",
       "      <th>17028</th>\n",
       "      <td>53594.0</td>\n",
       "      <td>2.0</td>\n",
       "      <td>11.0</td>\n",
       "      <td>9323.23</td>\n",
       "      <td>26.0</td>\n",
       "      <td>0.0</td>\n",
       "      <td>1.0</td>\n",
       "      <td>234.9</td>\n",
       "      <td>67.1</td>\n",
       "      <td>124.0</td>\n",
       "      <td>83.0</td>\n",
       "      <td>2.0</td>\n",
       "      <td>NaN</td>\n",
       "      <td>1.0</td>\n",
       "      <td>137.0</td>\n",
       "      <td>0</td>\n",
       "    </tr>\n",
       "    <tr>\n",
       "      <th>17029</th>\n",
       "      <td>53616.0</td>\n",
       "      <td>2.0</td>\n",
       "      <td>21.0</td>\n",
       "      <td>2341.16</td>\n",
       "      <td>85.0</td>\n",
       "      <td>1.0</td>\n",
       "      <td>1.0</td>\n",
       "      <td>189.1</td>\n",
       "      <td>68.0</td>\n",
       "      <td>157.0</td>\n",
       "      <td>94.0</td>\n",
       "      <td>2.0</td>\n",
       "      <td>NaN</td>\n",
       "      <td>1.0</td>\n",
       "      <td>285.0</td>\n",
       "      <td>1</td>\n",
       "    </tr>\n",
       "    <tr>\n",
       "      <th>17030</th>\n",
       "      <td>NaN</td>\n",
       "      <td>NaN</td>\n",
       "      <td>NaN</td>\n",
       "      <td>NaN</td>\n",
       "      <td>NaN</td>\n",
       "      <td>NaN</td>\n",
       "      <td>NaN</td>\n",
       "      <td>NaN</td>\n",
       "      <td>NaN</td>\n",
       "      <td>NaN</td>\n",
       "      <td>NaN</td>\n",
       "      <td>NaN</td>\n",
       "      <td>NaN</td>\n",
       "      <td>NaN</td>\n",
       "      <td>NaN</td>\n",
       "      <td>0</td>\n",
       "    </tr>\n",
       "  </tbody>\n",
       "</table>\n",
       "<p>17031 rows × 16 columns</p>\n",
       "</div>"
      ],
      "text/plain": [
       "          SEQN  SDPPSU6  SDPSTRA6   WTPFHX6  HSAGEIR  HSSEX  DMARACER  \\\n",
       "0          3.0      1.0      44.0   1735.14     21.0    1.0       1.0   \n",
       "1          4.0      1.0      43.0   1725.01     32.0    0.0       1.0   \n",
       "2          9.0      2.0      43.0  19451.83     48.0    0.0       1.0   \n",
       "3         10.0      1.0       6.0  27769.56     35.0    1.0       1.0   \n",
       "4         11.0      2.0      40.0   1245.52     48.0    1.0       1.0   \n",
       "...        ...      ...       ...       ...      ...    ...       ...   \n",
       "17026  53589.0      2.0       8.0   4667.32     81.0    0.0       1.0   \n",
       "17027  53593.0      2.0      17.0  18911.40     23.0    1.0       1.0   \n",
       "17028  53594.0      2.0      11.0   9323.23     26.0    0.0       1.0   \n",
       "17029  53616.0      2.0      21.0   2341.16     85.0    1.0       1.0   \n",
       "17030      NaN      NaN       NaN       NaN      NaN    NaN       NaN   \n",
       "\n",
       "       BMPWTLBS  BMPHTIN  PEPMNK1R  PEPMNK5R  HAR1  HAR3  SMOKE    TCP  HBP  \n",
       "0         179.5     70.4     120.0      67.0   2.0   NaN    1.0  268.0    0  \n",
       "1         135.6     63.9     126.0      86.0   2.0   NaN    1.0  160.0    0  \n",
       "2         149.7     61.8     131.0      73.0   1.0   2.0    2.0  236.0    0  \n",
       "3         203.5     69.8     130.0      82.0   2.0   NaN    1.0  225.0    0  \n",
       "4         155.3     66.2     120.0      70.0   1.0   2.0    2.0  260.0    0  \n",
       "...         ...      ...       ...       ...   ...   ...    ...    ...  ...  \n",
       "17026     190.2     61.8     129.0      72.0   1.0   2.0    2.0  168.0    0  \n",
       "17027     172.7     76.2     123.0      83.0   2.0   NaN    1.0  188.0    0  \n",
       "17028     234.9     67.1     124.0      83.0   2.0   NaN    1.0  137.0    0  \n",
       "17029     189.1     68.0     157.0      94.0   2.0   NaN    1.0  285.0    1  \n",
       "17030       NaN      NaN       NaN       NaN   NaN   NaN    NaN    NaN    0  \n",
       "\n",
       "[17031 rows x 16 columns]"
      ]
     },
     "execution_count": 2,
     "metadata": {},
     "output_type": "execute_result"
    }
   ],
   "source": [
    "df"
   ]
  },
  {
   "cell_type": "code",
   "execution_count": 3,
   "metadata": {},
   "outputs": [
    {
     "data": {
      "text/html": [
       "<div>\n",
       "<style scoped>\n",
       "    .dataframe tbody tr th:only-of-type {\n",
       "        vertical-align: middle;\n",
       "    }\n",
       "\n",
       "    .dataframe tbody tr th {\n",
       "        vertical-align: top;\n",
       "    }\n",
       "\n",
       "    .dataframe thead th {\n",
       "        text-align: right;\n",
       "    }\n",
       "</style>\n",
       "<table border=\"1\" class=\"dataframe\">\n",
       "  <thead>\n",
       "    <tr style=\"text-align: right;\">\n",
       "      <th></th>\n",
       "      <th>SEQN</th>\n",
       "      <th>SDPPSU6</th>\n",
       "      <th>SDPSTRA6</th>\n",
       "      <th>WTPFHX6</th>\n",
       "      <th>HSAGEIR</th>\n",
       "      <th>HSSEX</th>\n",
       "      <th>DMARACER</th>\n",
       "      <th>BMPWTLBS</th>\n",
       "      <th>BMPHTIN</th>\n",
       "      <th>PEPMNK1R</th>\n",
       "      <th>PEPMNK5R</th>\n",
       "      <th>HAR1</th>\n",
       "      <th>HAR3</th>\n",
       "      <th>SMOKE</th>\n",
       "      <th>TCP</th>\n",
       "      <th>HBP</th>\n",
       "    </tr>\n",
       "  </thead>\n",
       "  <tbody>\n",
       "    <tr>\n",
       "      <th>0</th>\n",
       "      <td>3.0</td>\n",
       "      <td>1.0</td>\n",
       "      <td>44.0</td>\n",
       "      <td>1735.14</td>\n",
       "      <td>21.0</td>\n",
       "      <td>1.0</td>\n",
       "      <td>1.0</td>\n",
       "      <td>179.5</td>\n",
       "      <td>70.4</td>\n",
       "      <td>120.0</td>\n",
       "      <td>67.0</td>\n",
       "      <td>2.0</td>\n",
       "      <td>NaN</td>\n",
       "      <td>1.0</td>\n",
       "      <td>268.0</td>\n",
       "      <td>0</td>\n",
       "    </tr>\n",
       "    <tr>\n",
       "      <th>1</th>\n",
       "      <td>4.0</td>\n",
       "      <td>1.0</td>\n",
       "      <td>43.0</td>\n",
       "      <td>1725.01</td>\n",
       "      <td>32.0</td>\n",
       "      <td>0.0</td>\n",
       "      <td>1.0</td>\n",
       "      <td>135.6</td>\n",
       "      <td>63.9</td>\n",
       "      <td>126.0</td>\n",
       "      <td>86.0</td>\n",
       "      <td>2.0</td>\n",
       "      <td>NaN</td>\n",
       "      <td>1.0</td>\n",
       "      <td>160.0</td>\n",
       "      <td>0</td>\n",
       "    </tr>\n",
       "    <tr>\n",
       "      <th>2</th>\n",
       "      <td>9.0</td>\n",
       "      <td>2.0</td>\n",
       "      <td>43.0</td>\n",
       "      <td>19451.83</td>\n",
       "      <td>48.0</td>\n",
       "      <td>0.0</td>\n",
       "      <td>1.0</td>\n",
       "      <td>149.7</td>\n",
       "      <td>61.8</td>\n",
       "      <td>131.0</td>\n",
       "      <td>73.0</td>\n",
       "      <td>1.0</td>\n",
       "      <td>2.0</td>\n",
       "      <td>2.0</td>\n",
       "      <td>236.0</td>\n",
       "      <td>0</td>\n",
       "    </tr>\n",
       "    <tr>\n",
       "      <th>3</th>\n",
       "      <td>10.0</td>\n",
       "      <td>1.0</td>\n",
       "      <td>6.0</td>\n",
       "      <td>27769.56</td>\n",
       "      <td>35.0</td>\n",
       "      <td>1.0</td>\n",
       "      <td>1.0</td>\n",
       "      <td>203.5</td>\n",
       "      <td>69.8</td>\n",
       "      <td>130.0</td>\n",
       "      <td>82.0</td>\n",
       "      <td>2.0</td>\n",
       "      <td>NaN</td>\n",
       "      <td>1.0</td>\n",
       "      <td>225.0</td>\n",
       "      <td>0</td>\n",
       "    </tr>\n",
       "    <tr>\n",
       "      <th>4</th>\n",
       "      <td>11.0</td>\n",
       "      <td>2.0</td>\n",
       "      <td>40.0</td>\n",
       "      <td>1245.52</td>\n",
       "      <td>48.0</td>\n",
       "      <td>1.0</td>\n",
       "      <td>1.0</td>\n",
       "      <td>155.3</td>\n",
       "      <td>66.2</td>\n",
       "      <td>120.0</td>\n",
       "      <td>70.0</td>\n",
       "      <td>1.0</td>\n",
       "      <td>2.0</td>\n",
       "      <td>2.0</td>\n",
       "      <td>260.0</td>\n",
       "      <td>0</td>\n",
       "    </tr>\n",
       "  </tbody>\n",
       "</table>\n",
       "</div>"
      ],
      "text/plain": [
       "   SEQN  SDPPSU6  SDPSTRA6   WTPFHX6  HSAGEIR  HSSEX  DMARACER  BMPWTLBS  \\\n",
       "0   3.0      1.0      44.0   1735.14     21.0    1.0       1.0     179.5   \n",
       "1   4.0      1.0      43.0   1725.01     32.0    0.0       1.0     135.6   \n",
       "2   9.0      2.0      43.0  19451.83     48.0    0.0       1.0     149.7   \n",
       "3  10.0      1.0       6.0  27769.56     35.0    1.0       1.0     203.5   \n",
       "4  11.0      2.0      40.0   1245.52     48.0    1.0       1.0     155.3   \n",
       "\n",
       "   BMPHTIN  PEPMNK1R  PEPMNK5R  HAR1  HAR3  SMOKE    TCP  HBP  \n",
       "0     70.4     120.0      67.0   2.0   NaN    1.0  268.0    0  \n",
       "1     63.9     126.0      86.0   2.0   NaN    1.0  160.0    0  \n",
       "2     61.8     131.0      73.0   1.0   2.0    2.0  236.0    0  \n",
       "3     69.8     130.0      82.0   2.0   NaN    1.0  225.0    0  \n",
       "4     66.2     120.0      70.0   1.0   2.0    2.0  260.0    0  "
      ]
     },
     "execution_count": 3,
     "metadata": {},
     "output_type": "execute_result"
    }
   ],
   "source": [
    "df.head()"
   ]
  },
  {
   "cell_type": "markdown",
   "metadata": {},
   "source": [
    "<h3>Deleting the weird empty column</h3>"
   ]
  },
  {
   "cell_type": "code",
   "execution_count": 4,
   "metadata": {
    "scrolled": true
   },
   "outputs": [],
   "source": [
    "# df[16]"
   ]
  },
  {
   "cell_type": "code",
   "execution_count": 5,
   "metadata": {},
   "outputs": [
    {
     "data": {
      "text/html": [
       "<div>\n",
       "<style scoped>\n",
       "    .dataframe tbody tr th:only-of-type {\n",
       "        vertical-align: middle;\n",
       "    }\n",
       "\n",
       "    .dataframe tbody tr th {\n",
       "        vertical-align: top;\n",
       "    }\n",
       "\n",
       "    .dataframe thead th {\n",
       "        text-align: right;\n",
       "    }\n",
       "</style>\n",
       "<table border=\"1\" class=\"dataframe\">\n",
       "  <thead>\n",
       "    <tr style=\"text-align: right;\">\n",
       "      <th></th>\n",
       "      <th>SEQN</th>\n",
       "      <th>SDPPSU6</th>\n",
       "      <th>SDPSTRA6</th>\n",
       "      <th>WTPFHX6</th>\n",
       "      <th>HSAGEIR</th>\n",
       "      <th>HSSEX</th>\n",
       "      <th>DMARACER</th>\n",
       "      <th>BMPWTLBS</th>\n",
       "      <th>BMPHTIN</th>\n",
       "      <th>PEPMNK1R</th>\n",
       "      <th>PEPMNK5R</th>\n",
       "      <th>HAR1</th>\n",
       "      <th>HAR3</th>\n",
       "      <th>SMOKE</th>\n",
       "      <th>TCP</th>\n",
       "      <th>HBP</th>\n",
       "    </tr>\n",
       "  </thead>\n",
       "  <tbody>\n",
       "    <tr>\n",
       "      <th>0</th>\n",
       "      <td>3.0</td>\n",
       "      <td>1.0</td>\n",
       "      <td>44.0</td>\n",
       "      <td>1735.14</td>\n",
       "      <td>21.0</td>\n",
       "      <td>1.0</td>\n",
       "      <td>1.0</td>\n",
       "      <td>179.5</td>\n",
       "      <td>70.4</td>\n",
       "      <td>120.0</td>\n",
       "      <td>67.0</td>\n",
       "      <td>2.0</td>\n",
       "      <td>NaN</td>\n",
       "      <td>1.0</td>\n",
       "      <td>268.0</td>\n",
       "      <td>0</td>\n",
       "    </tr>\n",
       "    <tr>\n",
       "      <th>1</th>\n",
       "      <td>4.0</td>\n",
       "      <td>1.0</td>\n",
       "      <td>43.0</td>\n",
       "      <td>1725.01</td>\n",
       "      <td>32.0</td>\n",
       "      <td>0.0</td>\n",
       "      <td>1.0</td>\n",
       "      <td>135.6</td>\n",
       "      <td>63.9</td>\n",
       "      <td>126.0</td>\n",
       "      <td>86.0</td>\n",
       "      <td>2.0</td>\n",
       "      <td>NaN</td>\n",
       "      <td>1.0</td>\n",
       "      <td>160.0</td>\n",
       "      <td>0</td>\n",
       "    </tr>\n",
       "    <tr>\n",
       "      <th>2</th>\n",
       "      <td>9.0</td>\n",
       "      <td>2.0</td>\n",
       "      <td>43.0</td>\n",
       "      <td>19451.83</td>\n",
       "      <td>48.0</td>\n",
       "      <td>0.0</td>\n",
       "      <td>1.0</td>\n",
       "      <td>149.7</td>\n",
       "      <td>61.8</td>\n",
       "      <td>131.0</td>\n",
       "      <td>73.0</td>\n",
       "      <td>1.0</td>\n",
       "      <td>2.0</td>\n",
       "      <td>2.0</td>\n",
       "      <td>236.0</td>\n",
       "      <td>0</td>\n",
       "    </tr>\n",
       "    <tr>\n",
       "      <th>3</th>\n",
       "      <td>10.0</td>\n",
       "      <td>1.0</td>\n",
       "      <td>6.0</td>\n",
       "      <td>27769.56</td>\n",
       "      <td>35.0</td>\n",
       "      <td>1.0</td>\n",
       "      <td>1.0</td>\n",
       "      <td>203.5</td>\n",
       "      <td>69.8</td>\n",
       "      <td>130.0</td>\n",
       "      <td>82.0</td>\n",
       "      <td>2.0</td>\n",
       "      <td>NaN</td>\n",
       "      <td>1.0</td>\n",
       "      <td>225.0</td>\n",
       "      <td>0</td>\n",
       "    </tr>\n",
       "    <tr>\n",
       "      <th>4</th>\n",
       "      <td>11.0</td>\n",
       "      <td>2.0</td>\n",
       "      <td>40.0</td>\n",
       "      <td>1245.52</td>\n",
       "      <td>48.0</td>\n",
       "      <td>1.0</td>\n",
       "      <td>1.0</td>\n",
       "      <td>155.3</td>\n",
       "      <td>66.2</td>\n",
       "      <td>120.0</td>\n",
       "      <td>70.0</td>\n",
       "      <td>1.0</td>\n",
       "      <td>2.0</td>\n",
       "      <td>2.0</td>\n",
       "      <td>260.0</td>\n",
       "      <td>0</td>\n",
       "    </tr>\n",
       "  </tbody>\n",
       "</table>\n",
       "</div>"
      ],
      "text/plain": [
       "   SEQN  SDPPSU6  SDPSTRA6   WTPFHX6  HSAGEIR  HSSEX  DMARACER  BMPWTLBS  \\\n",
       "0   3.0      1.0      44.0   1735.14     21.0    1.0       1.0     179.5   \n",
       "1   4.0      1.0      43.0   1725.01     32.0    0.0       1.0     135.6   \n",
       "2   9.0      2.0      43.0  19451.83     48.0    0.0       1.0     149.7   \n",
       "3  10.0      1.0       6.0  27769.56     35.0    1.0       1.0     203.5   \n",
       "4  11.0      2.0      40.0   1245.52     48.0    1.0       1.0     155.3   \n",
       "\n",
       "   BMPHTIN  PEPMNK1R  PEPMNK5R  HAR1  HAR3  SMOKE    TCP  HBP  \n",
       "0     70.4     120.0      67.0   2.0   NaN    1.0  268.0    0  \n",
       "1     63.9     126.0      86.0   2.0   NaN    1.0  160.0    0  \n",
       "2     61.8     131.0      73.0   1.0   2.0    2.0  236.0    0  \n",
       "3     69.8     130.0      82.0   2.0   NaN    1.0  225.0    0  \n",
       "4     66.2     120.0      70.0   1.0   2.0    2.0  260.0    0  "
      ]
     },
     "execution_count": 5,
     "metadata": {},
     "output_type": "execute_result"
    }
   ],
   "source": [
    "df.head()"
   ]
  },
  {
   "cell_type": "markdown",
   "metadata": {},
   "source": [
    "<h3>Adding proper column names</h3>"
   ]
  },
  {
   "cell_type": "code",
   "execution_count": 6,
   "metadata": {},
   "outputs": [],
   "source": [
    "column_names = ['id', 'pseudo_psu', 'pseudo_stratum', 'stat_weight', 'age', 'sex', 'race', \n",
    "                'body_weight', 'height', 'avg_systolic_bp', 'avg_diastolic_bp', 'smoked_alot', \n",
    "                'currently_smokes', 'smoking', 'serum_cholesterol', 'hbp']\n",
    "df.columns = column_names"
   ]
  },
  {
   "cell_type": "code",
   "execution_count": 7,
   "metadata": {
    "scrolled": true
   },
   "outputs": [
    {
     "data": {
      "text/html": [
       "<div>\n",
       "<style scoped>\n",
       "    .dataframe tbody tr th:only-of-type {\n",
       "        vertical-align: middle;\n",
       "    }\n",
       "\n",
       "    .dataframe tbody tr th {\n",
       "        vertical-align: top;\n",
       "    }\n",
       "\n",
       "    .dataframe thead th {\n",
       "        text-align: right;\n",
       "    }\n",
       "</style>\n",
       "<table border=\"1\" class=\"dataframe\">\n",
       "  <thead>\n",
       "    <tr style=\"text-align: right;\">\n",
       "      <th></th>\n",
       "      <th>id</th>\n",
       "      <th>pseudo_psu</th>\n",
       "      <th>pseudo_stratum</th>\n",
       "      <th>stat_weight</th>\n",
       "      <th>age</th>\n",
       "      <th>sex</th>\n",
       "      <th>race</th>\n",
       "      <th>body_weight</th>\n",
       "      <th>height</th>\n",
       "      <th>avg_systolic_bp</th>\n",
       "      <th>avg_diastolic_bp</th>\n",
       "      <th>smoked_alot</th>\n",
       "      <th>currently_smokes</th>\n",
       "      <th>smoking</th>\n",
       "      <th>serum_cholesterol</th>\n",
       "      <th>hbp</th>\n",
       "    </tr>\n",
       "  </thead>\n",
       "  <tbody>\n",
       "    <tr>\n",
       "      <th>0</th>\n",
       "      <td>3.0</td>\n",
       "      <td>1.0</td>\n",
       "      <td>44.0</td>\n",
       "      <td>1735.14</td>\n",
       "      <td>21.0</td>\n",
       "      <td>1.0</td>\n",
       "      <td>1.0</td>\n",
       "      <td>179.5</td>\n",
       "      <td>70.4</td>\n",
       "      <td>120.0</td>\n",
       "      <td>67.0</td>\n",
       "      <td>2.0</td>\n",
       "      <td>NaN</td>\n",
       "      <td>1.0</td>\n",
       "      <td>268.0</td>\n",
       "      <td>0</td>\n",
       "    </tr>\n",
       "    <tr>\n",
       "      <th>1</th>\n",
       "      <td>4.0</td>\n",
       "      <td>1.0</td>\n",
       "      <td>43.0</td>\n",
       "      <td>1725.01</td>\n",
       "      <td>32.0</td>\n",
       "      <td>0.0</td>\n",
       "      <td>1.0</td>\n",
       "      <td>135.6</td>\n",
       "      <td>63.9</td>\n",
       "      <td>126.0</td>\n",
       "      <td>86.0</td>\n",
       "      <td>2.0</td>\n",
       "      <td>NaN</td>\n",
       "      <td>1.0</td>\n",
       "      <td>160.0</td>\n",
       "      <td>0</td>\n",
       "    </tr>\n",
       "    <tr>\n",
       "      <th>2</th>\n",
       "      <td>9.0</td>\n",
       "      <td>2.0</td>\n",
       "      <td>43.0</td>\n",
       "      <td>19451.83</td>\n",
       "      <td>48.0</td>\n",
       "      <td>0.0</td>\n",
       "      <td>1.0</td>\n",
       "      <td>149.7</td>\n",
       "      <td>61.8</td>\n",
       "      <td>131.0</td>\n",
       "      <td>73.0</td>\n",
       "      <td>1.0</td>\n",
       "      <td>2.0</td>\n",
       "      <td>2.0</td>\n",
       "      <td>236.0</td>\n",
       "      <td>0</td>\n",
       "    </tr>\n",
       "    <tr>\n",
       "      <th>3</th>\n",
       "      <td>10.0</td>\n",
       "      <td>1.0</td>\n",
       "      <td>6.0</td>\n",
       "      <td>27769.56</td>\n",
       "      <td>35.0</td>\n",
       "      <td>1.0</td>\n",
       "      <td>1.0</td>\n",
       "      <td>203.5</td>\n",
       "      <td>69.8</td>\n",
       "      <td>130.0</td>\n",
       "      <td>82.0</td>\n",
       "      <td>2.0</td>\n",
       "      <td>NaN</td>\n",
       "      <td>1.0</td>\n",
       "      <td>225.0</td>\n",
       "      <td>0</td>\n",
       "    </tr>\n",
       "    <tr>\n",
       "      <th>4</th>\n",
       "      <td>11.0</td>\n",
       "      <td>2.0</td>\n",
       "      <td>40.0</td>\n",
       "      <td>1245.52</td>\n",
       "      <td>48.0</td>\n",
       "      <td>1.0</td>\n",
       "      <td>1.0</td>\n",
       "      <td>155.3</td>\n",
       "      <td>66.2</td>\n",
       "      <td>120.0</td>\n",
       "      <td>70.0</td>\n",
       "      <td>1.0</td>\n",
       "      <td>2.0</td>\n",
       "      <td>2.0</td>\n",
       "      <td>260.0</td>\n",
       "      <td>0</td>\n",
       "    </tr>\n",
       "  </tbody>\n",
       "</table>\n",
       "</div>"
      ],
      "text/plain": [
       "     id  pseudo_psu  pseudo_stratum  stat_weight   age  sex  race  \\\n",
       "0   3.0         1.0            44.0      1735.14  21.0  1.0   1.0   \n",
       "1   4.0         1.0            43.0      1725.01  32.0  0.0   1.0   \n",
       "2   9.0         2.0            43.0     19451.83  48.0  0.0   1.0   \n",
       "3  10.0         1.0             6.0     27769.56  35.0  1.0   1.0   \n",
       "4  11.0         2.0            40.0      1245.52  48.0  1.0   1.0   \n",
       "\n",
       "   body_weight  height  avg_systolic_bp  avg_diastolic_bp  smoked_alot  \\\n",
       "0        179.5    70.4            120.0              67.0          2.0   \n",
       "1        135.6    63.9            126.0              86.0          2.0   \n",
       "2        149.7    61.8            131.0              73.0          1.0   \n",
       "3        203.5    69.8            130.0              82.0          2.0   \n",
       "4        155.3    66.2            120.0              70.0          1.0   \n",
       "\n",
       "   currently_smokes  smoking  serum_cholesterol  hbp  \n",
       "0               NaN      1.0              268.0    0  \n",
       "1               NaN      1.0              160.0    0  \n",
       "2               2.0      2.0              236.0    0  \n",
       "3               NaN      1.0              225.0    0  \n",
       "4               2.0      2.0              260.0    0  "
      ]
     },
     "execution_count": 7,
     "metadata": {},
     "output_type": "execute_result"
    }
   ],
   "source": [
    "df.head()"
   ]
  },
  {
   "cell_type": "markdown",
   "metadata": {},
   "source": [
    "<h3>The last sample is strange</h3>"
   ]
  },
  {
   "cell_type": "code",
   "execution_count": 8,
   "metadata": {},
   "outputs": [],
   "source": [
    "df.drop(df.index[-1], inplace=True)"
   ]
  },
  {
   "cell_type": "markdown",
   "metadata": {},
   "source": [
    "<h3>Convert to numeric, convert all '.' to nan automagically</h3>"
   ]
  },
  {
   "cell_type": "code",
   "execution_count": 9,
   "metadata": {},
   "outputs": [],
   "source": [
    "df = df.apply(pd.to_numeric, args=('coerce',))"
   ]
  },
  {
   "cell_type": "code",
   "execution_count": 10,
   "metadata": {},
   "outputs": [
    {
     "data": {
      "text/plain": [
       "(17030, 16)"
      ]
     },
     "execution_count": 10,
     "metadata": {},
     "output_type": "execute_result"
    }
   ],
   "source": [
    "df.shape"
   ]
  },
  {
   "cell_type": "code",
   "execution_count": 11,
   "metadata": {
    "scrolled": true
   },
   "outputs": [
    {
     "data": {
      "text/plain": [
       "id                      0\n",
       "pseudo_psu              0\n",
       "pseudo_stratum          0\n",
       "stat_weight             0\n",
       "age                     0\n",
       "sex                     0\n",
       "race                    5\n",
       "body_weight            54\n",
       "height                 39\n",
       "avg_systolic_bp       492\n",
       "avg_diastolic_bp      494\n",
       "smoked_alot             0\n",
       "currently_smokes     8404\n",
       "smoking                 1\n",
       "serum_cholesterol     968\n",
       "hbp                     0\n",
       "dtype: int64"
      ]
     },
     "execution_count": 11,
     "metadata": {},
     "output_type": "execute_result"
    }
   ],
   "source": [
    "df.isnull().sum()"
   ]
  },
  {
   "cell_type": "code",
   "execution_count": 12,
   "metadata": {
    "scrolled": true
   },
   "outputs": [
    {
     "name": "stdout",
     "output_type": "stream",
     "text": [
      "id 0.0 %\n",
      "pseudo_psu 0.0 %\n",
      "pseudo_stratum 0.0 %\n",
      "stat_weight 0.0 %\n",
      "age 0.0 %\n",
      "sex 0.0 %\n",
      "race 0.0003 %\n",
      "body_weight 0.0032 %\n",
      "height 0.0023 %\n",
      "avg_systolic_bp 0.0289 %\n",
      "avg_diastolic_bp 0.029 %\n",
      "smoked_alot 0.0 %\n",
      "currently_smokes 0.4935 %\n",
      "smoking 0.0001 %\n",
      "serum_cholesterol 0.0568 %\n",
      "hbp 0.0 %\n"
     ]
    }
   ],
   "source": [
    "for i in df:\n",
    "    print(i,np.round(df[i].isnull().mean(),4),'%')"
   ]
  },
  {
   "cell_type": "code",
   "execution_count": 13,
   "metadata": {},
   "outputs": [
    {
     "name": "stdout",
     "output_type": "stream",
     "text": [
      "id False\n",
      "pseudo_psu False\n",
      "pseudo_stratum False\n",
      "stat_weight False\n",
      "age False\n",
      "sex False\n",
      "race False\n",
      "body_weight False\n",
      "height False\n",
      "avg_systolic_bp False\n",
      "avg_diastolic_bp False\n",
      "smoked_alot False\n",
      "currently_smokes True\n",
      "smoking False\n",
      "serum_cholesterol False\n",
      "hbp False\n"
     ]
    }
   ],
   "source": [
    "for i in df:\n",
    "    print(i,np.round(df[i].isnull().mean()*100,4)>20)"
   ]
  },
  {
   "cell_type": "code",
   "execution_count": 14,
   "metadata": {
    "scrolled": true
   },
   "outputs": [
    {
     "name": "stdout",
     "output_type": "stream",
     "text": [
      "<class 'pandas.core.frame.DataFrame'>\n",
      "RangeIndex: 17030 entries, 0 to 17029\n",
      "Data columns (total 16 columns):\n",
      " #   Column             Non-Null Count  Dtype  \n",
      "---  ------             --------------  -----  \n",
      " 0   id                 17030 non-null  float64\n",
      " 1   pseudo_psu         17030 non-null  float64\n",
      " 2   pseudo_stratum     17030 non-null  float64\n",
      " 3   stat_weight        17030 non-null  float64\n",
      " 4   age                17030 non-null  float64\n",
      " 5   sex                17030 non-null  float64\n",
      " 6   race               17025 non-null  float64\n",
      " 7   body_weight        16976 non-null  float64\n",
      " 8   height             16991 non-null  float64\n",
      " 9   avg_systolic_bp    16538 non-null  float64\n",
      " 10  avg_diastolic_bp   16536 non-null  float64\n",
      " 11  smoked_alot        17030 non-null  float64\n",
      " 12  currently_smokes   8626 non-null   float64\n",
      " 13  smoking            17029 non-null  float64\n",
      " 14  serum_cholesterol  16062 non-null  float64\n",
      " 15  hbp                17030 non-null  int64  \n",
      "dtypes: float64(15), int64(1)\n",
      "memory usage: 2.1 MB\n"
     ]
    }
   ],
   "source": [
    "df.info()"
   ]
  },
  {
   "cell_type": "markdown",
   "metadata": {},
   "source": [
    "<h3>Take a look at  some values</h3>"
   ]
  },
  {
   "cell_type": "code",
   "execution_count": 15,
   "metadata": {
    "scrolled": true
   },
   "outputs": [
    {
     "name": "stdout",
     "output_type": "stream",
     "text": [
      "id: \n",
      "[3.0000e+00 4.0000e+00 9.0000e+00 ... 5.3593e+04 5.3594e+04 5.3616e+04]\n",
      "pseudo_psu: \n",
      "[1. 2.]\n",
      "pseudo_stratum: \n",
      "[ 1.  2.  3.  4.  5.  6.  7.  8.  9. 10. 11. 12. 13. 14. 15. 16. 17. 18.\n",
      " 19. 20. 21. 22. 23. 24. 25. 26. 27. 28. 29. 30. 31. 32. 33. 34. 35. 36.\n",
      " 37. 38. 39. 40. 41. 42. 43. 44. 45. 46. 47. 48. 49.]\n",
      "stat_weight: \n",
      "[   225.93    225.95    231.02 ... 131094.3  135251.6  139744.9 ]\n",
      "age: \n",
      "[20. 21. 22. 23. 24. 25. 26. 27. 28. 29. 30. 31. 32. 33. 34. 35. 36. 37.\n",
      " 38. 39. 40. 41. 42. 43. 44. 45. 46. 47. 48. 49. 50. 51. 52. 53. 54. 55.\n",
      " 56. 57. 58. 59. 60. 61. 62. 63. 64. 65. 66. 67. 68. 69. 70. 71. 72. 73.\n",
      " 74. 75. 76. 77. 78. 79. 80. 81. 82. 83. 84. 85. 86. 87. 88. 89. 90.]\n",
      "sex: \n",
      "[0. 1.]\n",
      "race: \n",
      "[ 1.  2.  3. nan]\n",
      "body_weight: \n",
      "[ 48.   65.6  68.7 ... 481.6 532.    nan]\n",
      "height: \n",
      "[46.7 50.  51.4 51.9 52.1 52.4 53.5 53.6 53.7 53.8 53.9 54.1 54.2 54.3\n",
      " 54.4 54.5 54.6 54.8 54.9 55.  55.1 55.2 55.3 55.4 55.5 55.6 55.7 55.8\n",
      " 55.9 56.  56.1 56.2 56.3 56.4 56.5 56.6 56.7 56.8 56.9 57.  57.1 57.2\n",
      " 57.3 57.4 57.5 57.6 57.7 57.8 57.9 58.  58.1 58.2 58.3 58.4 58.5 58.6\n",
      " 58.7 58.8 58.9 59.  59.1 59.2 59.3 59.4 59.5 59.6 59.7 59.8 59.9 60.\n",
      " 60.1 60.2 60.3 60.4 60.5 60.6 60.7 60.8 60.9 61.  61.1 61.2 61.3 61.4\n",
      " 61.5 61.6 61.7 61.8 61.9 62.  62.1 62.2 62.3 62.4 62.5 62.6 62.7 62.8\n",
      " 62.9 63.  63.1 63.2 63.3 63.4 63.5 63.6 63.7 63.8 63.9 64.  64.1 64.2\n",
      " 64.3 64.4 64.5 64.6 64.7 64.8 64.9 65.  65.1 65.2 65.3 65.4 65.5 65.6\n",
      " 65.7 65.8 65.9 66.  66.1 66.2 66.3 66.4 66.5 66.6 66.7 66.8 66.9 67.\n",
      " 67.1 67.2 67.3 67.4 67.5 67.6 67.7 67.8 67.9 68.  68.1 68.2 68.3 68.4\n",
      " 68.5 68.6 68.7 68.8 68.9 69.  69.1 69.2 69.3 69.4 69.5 69.6 69.7 69.8\n",
      " 69.9 70.  70.1 70.2 70.3 70.4 70.5 70.6 70.7 70.8 70.9 71.  71.1 71.2\n",
      " 71.3 71.4 71.5 71.6 71.7 71.8 71.9 72.  72.1 72.2 72.3 72.4 72.5 72.6\n",
      " 72.7 72.8 72.9 73.  73.1 73.2 73.3 73.4 73.5 73.6 73.7 73.8 73.9 74.\n",
      " 74.1 74.2 74.3 74.4 74.5 74.6 74.7 74.8 74.9 75.  75.1 75.2 75.3 75.4\n",
      " 75.5 75.6 75.7 75.8 75.9 76.  76.1 76.2 76.3 76.4 76.5 76.6 76.7 76.9\n",
      " 77.  77.1 77.6 78.1 78.5 78.7 79.4 81.3  nan]\n",
      "avg_systolic_bp: \n",
      "[ 69.  80.  81.  83.  84.  86.  87.  88.  89.  90.  91.  92.  93.  94.\n",
      "  95.  96.  97.  98.  99. 100. 101. 102. 103. 104. 105. 106. 107. 108.\n",
      " 109. 110. 111. 112. 113. 114. 115. 116. 117. 118. 119. 120. 121. 122.\n",
      " 123. 124. 125. 126. 127. 128. 129. 130. 131. 132. 133. 134. 135. 136.\n",
      " 137. 138. 139. 140. 141. 142. 143. 144. 145. 146. 147. 148. 149. 150.\n",
      " 151. 152. 153. 154. 155. 156. 157. 158. 159. 160. 161. 162. 163. 164.\n",
      " 165. 166. 167. 168. 169. 170. 171. 172. 173. 174. 175. 176. 177. 178.\n",
      " 179. 180. 181. 182. 183. 184. 185. 186. 187. 188. 189. 190. 191. 192.\n",
      " 193. 194. 195. 196. 197. 198. 199. 200. 201. 202. 203. 204. 205. 206.\n",
      " 207. 209. 210. 211. 215. 216. 218. 219. 220. 221. 223. 224. 225. 226.\n",
      " 230. 231. 237. 244.  nan]\n",
      "avg_diastolic_bp: \n",
      "[ 20.  22.  30.  32.  33.  37.  38.  39.  40.  41.  42.  43.  44.  45.\n",
      "  46.  47.  48.  49.  50.  51.  52.  53.  54.  55.  56.  57.  58.  59.\n",
      "  60.  61.  62.  63.  64.  65.  66.  67.  68.  69.  70.  71.  72.  73.\n",
      "  74.  75.  76.  77.  78.  79.  80.  81.  82.  83.  84.  85.  86.  87.\n",
      "  88.  89.  90.  91.  92.  93.  94.  95.  96.  97.  98.  99. 100. 101.\n",
      " 102. 103. 104. 105. 106. 107. 108. 109. 110. 111. 112. 113. 114. 115.\n",
      " 116. 119. 120. 121. 123. 124. 126. 129. 130. 133. 134. 142.  nan]\n",
      "smoked_alot: \n",
      "[1. 2.]\n",
      "currently_smokes: \n",
      "[ 1.  2. nan]\n",
      "smoking: \n",
      "[ 1.  2.  3. nan]\n",
      "serum_cholesterol: \n",
      "[ 59.  74.  79.  81.  83.  89.  92.  93.  94.  95.  96.  98.  99. 100.\n",
      " 101. 102. 103. 104. 105. 106. 107. 108. 109. 110. 111. 112. 113. 114.\n",
      " 115. 116. 117. 118. 119. 120. 121. 122. 123. 124. 125. 126. 127. 128.\n",
      " 129. 130. 131. 132. 133. 134. 135. 136. 137. 138. 139. 140. 141. 142.\n",
      " 143. 144. 145. 146. 147. 148. 149. 150. 151. 152. 153. 154. 155. 156.\n",
      " 157. 158. 159. 160. 161. 162. 163. 164. 165. 166. 167. 168. 169. 170.\n",
      " 171. 172. 173. 174. 175. 176. 177. 178. 179. 180. 181. 182. 183. 184.\n",
      " 185. 186. 187. 188. 189. 190. 191. 192. 193. 194. 195. 196. 197. 198.\n",
      " 199. 200. 201. 202. 203. 204. 205. 206. 207. 208. 209. 210. 211. 212.\n",
      " 213. 214. 215. 216. 217. 218. 219. 220. 221. 222. 223. 224. 225. 226.\n",
      " 227. 228. 229. 230. 231. 232. 233. 234. 235. 236. 237. 238. 239. 240.\n",
      " 241. 242. 243. 244. 245. 246. 247. 248. 249. 250. 251. 252. 253. 254.\n",
      " 255. 256. 257. 258. 259. 260. 261. 262. 263. 264. 265. 266. 267. 268.\n",
      " 269. 270. 271. 272. 273. 274. 275. 276. 277. 278. 279. 280. 281. 282.\n",
      " 283. 284. 285. 286. 287. 288. 289. 290. 291. 292. 293. 294. 295. 296.\n",
      " 297. 298. 299. 300. 301. 302. 303. 304. 305. 306. 307. 308. 309. 310.\n",
      " 311. 312. 313. 314. 315. 316. 317. 318. 319. 320. 321. 322. 323. 324.\n",
      " 325. 326. 327. 328. 329. 330. 331. 332. 333. 334. 335. 336. 337. 338.\n",
      " 339. 340. 341. 342. 343. 344. 345. 346. 347. 348. 349. 350. 351. 352.\n",
      " 354. 355. 356. 360. 361. 362. 364. 365. 366. 367. 368. 370. 371. 372.\n",
      " 375. 376. 377. 379. 381. 384. 385. 386. 387. 388. 392. 393. 394. 399.\n",
      " 400. 403. 408. 412. 415. 416. 420. 422. 424. 425. 427. 432. 437. 446.\n",
      " 451. 463. 464. 478. 491. 501. 518. 676. 702.  nan]\n",
      "hbp: \n",
      "[0 1]\n"
     ]
    }
   ],
   "source": [
    "for column in df:\n",
    "    print(column + ': ')\n",
    "    print(np.unique(df[column].values))"
   ]
  },
  {
   "cell_type": "markdown",
   "metadata": {},
   "source": [
    "<h3>How many nulls do we have?</h3>"
   ]
  },
  {
   "cell_type": "code",
   "execution_count": 16,
   "metadata": {
    "scrolled": false
   },
   "outputs": [
    {
     "name": "stdout",
     "output_type": "stream",
     "text": [
      "id: \n",
      "0\n",
      "pseudo_psu: \n",
      "0\n",
      "pseudo_stratum: \n",
      "0\n",
      "stat_weight: \n",
      "0\n",
      "age: \n",
      "0\n",
      "sex: \n",
      "0\n",
      "race: \n",
      "5\n",
      "body_weight: \n",
      "54\n",
      "height: \n",
      "39\n",
      "avg_systolic_bp: \n",
      "492\n",
      "avg_diastolic_bp: \n",
      "494\n",
      "smoked_alot: \n",
      "0\n",
      "currently_smokes: \n",
      "8404\n",
      "smoking: \n",
      "1\n",
      "serum_cholesterol: \n",
      "968\n",
      "hbp: \n",
      "0\n"
     ]
    }
   ],
   "source": [
    "for column in df:\n",
    "    print(column + ': ')\n",
    "    print(df[column].isnull().sum())"
   ]
  },
  {
   "cell_type": "markdown",
   "metadata": {},
   "source": [
    "<h3>Use Machine learning to replace weight</h3>"
   ]
  },
  {
   "cell_type": "markdown",
   "metadata": {},
   "source": [
    "<h4>Check to see if using age, sex, height, race, sys, dia, smoking and cholesterol to predict weight is feasible</h4>"
   ]
  },
  {
   "cell_type": "markdown",
   "metadata": {},
   "source": [
    "Select the samples whose columns in these rows are not null (will use them for prediction)"
   ]
  },
  {
   "cell_type": "code",
   "execution_count": 17,
   "metadata": {},
   "outputs": [],
   "source": [
    "missing = ((~df['race'].isnull())&(~df['height'].isnull())&(~df['avg_systolic_bp'].isnull())&(~df['avg_diastolic_bp'].isnull())\n",
    "           &(~df['smoking'].isnull())&(~df['serum_cholesterol'].isnull())&(~df['age'].isnull())&(~df['sex'].isnull()))"
   ]
  },
  {
   "cell_type": "code",
   "execution_count": 18,
   "metadata": {},
   "outputs": [
    {
     "name": "stderr",
     "output_type": "stream",
     "text": [
      "C:\\Users\\KAMAL\\AppData\\Local\\Temp\\ipykernel_6420\\1798263649.py:1: UserWarning: Boolean Series key will be reindexed to match DataFrame index.\n",
      "  data = df[missing][~df['body_weight'].isnull()]\n"
     ]
    }
   ],
   "source": [
    "data = df[missing][~df['body_weight'].isnull()]"
   ]
  },
  {
   "cell_type": "code",
   "execution_count": 19,
   "metadata": {
    "scrolled": true
   },
   "outputs": [
    {
     "data": {
      "text/html": [
       "<div>\n",
       "<style scoped>\n",
       "    .dataframe tbody tr th:only-of-type {\n",
       "        vertical-align: middle;\n",
       "    }\n",
       "\n",
       "    .dataframe tbody tr th {\n",
       "        vertical-align: top;\n",
       "    }\n",
       "\n",
       "    .dataframe thead th {\n",
       "        text-align: right;\n",
       "    }\n",
       "</style>\n",
       "<table border=\"1\" class=\"dataframe\">\n",
       "  <thead>\n",
       "    <tr style=\"text-align: right;\">\n",
       "      <th></th>\n",
       "      <th>id</th>\n",
       "      <th>pseudo_psu</th>\n",
       "      <th>pseudo_stratum</th>\n",
       "      <th>stat_weight</th>\n",
       "      <th>age</th>\n",
       "      <th>sex</th>\n",
       "      <th>race</th>\n",
       "      <th>body_weight</th>\n",
       "      <th>height</th>\n",
       "      <th>avg_systolic_bp</th>\n",
       "      <th>avg_diastolic_bp</th>\n",
       "      <th>smoked_alot</th>\n",
       "      <th>currently_smokes</th>\n",
       "      <th>smoking</th>\n",
       "      <th>serum_cholesterol</th>\n",
       "      <th>hbp</th>\n",
       "    </tr>\n",
       "  </thead>\n",
       "  <tbody>\n",
       "    <tr>\n",
       "      <th>0</th>\n",
       "      <td>3.0</td>\n",
       "      <td>1.0</td>\n",
       "      <td>44.0</td>\n",
       "      <td>1735.14</td>\n",
       "      <td>21.0</td>\n",
       "      <td>1.0</td>\n",
       "      <td>1.0</td>\n",
       "      <td>179.5</td>\n",
       "      <td>70.4</td>\n",
       "      <td>120.0</td>\n",
       "      <td>67.0</td>\n",
       "      <td>2.0</td>\n",
       "      <td>NaN</td>\n",
       "      <td>1.0</td>\n",
       "      <td>268.0</td>\n",
       "      <td>0</td>\n",
       "    </tr>\n",
       "    <tr>\n",
       "      <th>1</th>\n",
       "      <td>4.0</td>\n",
       "      <td>1.0</td>\n",
       "      <td>43.0</td>\n",
       "      <td>1725.01</td>\n",
       "      <td>32.0</td>\n",
       "      <td>0.0</td>\n",
       "      <td>1.0</td>\n",
       "      <td>135.6</td>\n",
       "      <td>63.9</td>\n",
       "      <td>126.0</td>\n",
       "      <td>86.0</td>\n",
       "      <td>2.0</td>\n",
       "      <td>NaN</td>\n",
       "      <td>1.0</td>\n",
       "      <td>160.0</td>\n",
       "      <td>0</td>\n",
       "    </tr>\n",
       "    <tr>\n",
       "      <th>2</th>\n",
       "      <td>9.0</td>\n",
       "      <td>2.0</td>\n",
       "      <td>43.0</td>\n",
       "      <td>19451.83</td>\n",
       "      <td>48.0</td>\n",
       "      <td>0.0</td>\n",
       "      <td>1.0</td>\n",
       "      <td>149.7</td>\n",
       "      <td>61.8</td>\n",
       "      <td>131.0</td>\n",
       "      <td>73.0</td>\n",
       "      <td>1.0</td>\n",
       "      <td>2.0</td>\n",
       "      <td>2.0</td>\n",
       "      <td>236.0</td>\n",
       "      <td>0</td>\n",
       "    </tr>\n",
       "    <tr>\n",
       "      <th>3</th>\n",
       "      <td>10.0</td>\n",
       "      <td>1.0</td>\n",
       "      <td>6.0</td>\n",
       "      <td>27769.56</td>\n",
       "      <td>35.0</td>\n",
       "      <td>1.0</td>\n",
       "      <td>1.0</td>\n",
       "      <td>203.5</td>\n",
       "      <td>69.8</td>\n",
       "      <td>130.0</td>\n",
       "      <td>82.0</td>\n",
       "      <td>2.0</td>\n",
       "      <td>NaN</td>\n",
       "      <td>1.0</td>\n",
       "      <td>225.0</td>\n",
       "      <td>0</td>\n",
       "    </tr>\n",
       "    <tr>\n",
       "      <th>4</th>\n",
       "      <td>11.0</td>\n",
       "      <td>2.0</td>\n",
       "      <td>40.0</td>\n",
       "      <td>1245.52</td>\n",
       "      <td>48.0</td>\n",
       "      <td>1.0</td>\n",
       "      <td>1.0</td>\n",
       "      <td>155.3</td>\n",
       "      <td>66.2</td>\n",
       "      <td>120.0</td>\n",
       "      <td>70.0</td>\n",
       "      <td>1.0</td>\n",
       "      <td>2.0</td>\n",
       "      <td>2.0</td>\n",
       "      <td>260.0</td>\n",
       "      <td>0</td>\n",
       "    </tr>\n",
       "  </tbody>\n",
       "</table>\n",
       "</div>"
      ],
      "text/plain": [
       "     id  pseudo_psu  pseudo_stratum  stat_weight   age  sex  race  \\\n",
       "0   3.0         1.0            44.0      1735.14  21.0  1.0   1.0   \n",
       "1   4.0         1.0            43.0      1725.01  32.0  0.0   1.0   \n",
       "2   9.0         2.0            43.0     19451.83  48.0  0.0   1.0   \n",
       "3  10.0         1.0             6.0     27769.56  35.0  1.0   1.0   \n",
       "4  11.0         2.0            40.0      1245.52  48.0  1.0   1.0   \n",
       "\n",
       "   body_weight  height  avg_systolic_bp  avg_diastolic_bp  smoked_alot  \\\n",
       "0        179.5    70.4            120.0              67.0          2.0   \n",
       "1        135.6    63.9            126.0              86.0          2.0   \n",
       "2        149.7    61.8            131.0              73.0          1.0   \n",
       "3        203.5    69.8            130.0              82.0          2.0   \n",
       "4        155.3    66.2            120.0              70.0          1.0   \n",
       "\n",
       "   currently_smokes  smoking  serum_cholesterol  hbp  \n",
       "0               NaN      1.0              268.0    0  \n",
       "1               NaN      1.0              160.0    0  \n",
       "2               2.0      2.0              236.0    0  \n",
       "3               NaN      1.0              225.0    0  \n",
       "4               2.0      2.0              260.0    0  "
      ]
     },
     "execution_count": 19,
     "metadata": {},
     "output_type": "execute_result"
    }
   ],
   "source": [
    "data.head()"
   ]
  },
  {
   "cell_type": "code",
   "execution_count": 20,
   "metadata": {},
   "outputs": [],
   "source": [
    "total_data = data[['race', 'age', 'sex', 'height', 'avg_systolic_bp', 'avg_diastolic_bp', 'smoking', 'serum_cholesterol',\n",
    "                   'body_weight']].values"
   ]
  },
  {
   "cell_type": "code",
   "execution_count": 21,
   "metadata": {},
   "outputs": [],
   "source": [
    "from sklearn.model_selection import train_test_split\n",
    "x_train, x_test, y_train, y_test = train_test_split(total_data[:,:-1], total_data[:,-1], test_size=.33, random_state=0)"
   ]
  },
  {
   "cell_type": "code",
   "execution_count": 22,
   "metadata": {},
   "outputs": [
    {
     "name": "stdout",
     "output_type": "stream",
     "text": [
      "0.2654854756678886\n"
     ]
    }
   ],
   "source": [
    "from sklearn import linear_model\n",
    "regr = linear_model.LinearRegression()\n",
    "regr.fit(x_train, y_train)\n",
    "print(regr.score(x_test, y_test))"
   ]
  },
  {
   "cell_type": "markdown",
   "metadata": {},
   "source": [
    "Eh, good enough"
   ]
  },
  {
   "cell_type": "code",
   "execution_count": 23,
   "metadata": {},
   "outputs": [
    {
     "name": "stderr",
     "output_type": "stream",
     "text": [
      "C:\\Users\\KAMAL\\AppData\\Local\\Temp\\ipykernel_6420\\656393947.py:1: UserWarning: Boolean Series key will be reindexed to match DataFrame index.\n",
      "  replace = df[missing][df['body_weight'].isnull()][['race', 'age', 'sex', 'height', 'avg_systolic_bp', 'avg_diastolic_bp', 'smoking',\n"
     ]
    }
   ],
   "source": [
    "replace = df[missing][df['body_weight'].isnull()][['race', 'age', 'sex', 'height', 'avg_systolic_bp', 'avg_diastolic_bp', 'smoking', \n",
    "                                                    'serum_cholesterol']].values"
   ]
  },
  {
   "cell_type": "code",
   "execution_count": 24,
   "metadata": {},
   "outputs": [],
   "source": [
    "new_values = regr.predict(replace)"
   ]
  },
  {
   "cell_type": "code",
   "execution_count": 25,
   "metadata": {
    "scrolled": true
   },
   "outputs": [
    {
     "data": {
      "text/plain": [
       "array([177.56327019, 134.98366574, 135.43111565, 141.69859908,\n",
       "       128.90421092, 164.49471124, 135.85407016, 141.50414881,\n",
       "       137.54760733, 154.56226225, 147.48031255, 106.68448785,\n",
       "       132.13075337, 119.71313143, 165.7659623 , 153.74597875,\n",
       "       171.19165832])"
      ]
     },
     "execution_count": 25,
     "metadata": {},
     "output_type": "execute_result"
    }
   ],
   "source": [
    "new_values"
   ]
  },
  {
   "cell_type": "markdown",
   "metadata": {},
   "source": [
    "Replace nan with predicted values"
   ]
  },
  {
   "cell_type": "code",
   "execution_count": 26,
   "metadata": {},
   "outputs": [
    {
     "name": "stderr",
     "output_type": "stream",
     "text": [
      "C:\\Users\\KAMAL\\AppData\\Local\\Temp\\ipykernel_6420\\2098380314.py:1: UserWarning: Boolean Series key will be reindexed to match DataFrame index.\n",
      "  for idx, val in enumerate(df[missing][df['body_weight'].isnull()].index):\n"
     ]
    }
   ],
   "source": [
    "for idx, val in enumerate(df[missing][df['body_weight'].isnull()].index):\n",
    "    df.loc[val, 'body_weight'] = new_values[idx]"
   ]
  },
  {
   "cell_type": "markdown",
   "metadata": {},
   "source": [
    "Predict the final weight values using age, race, sex"
   ]
  },
  {
   "cell_type": "code",
   "execution_count": 27,
   "metadata": {},
   "outputs": [],
   "source": [
    "missing = ((~df['race'].isnull())&(~df['age'].isnull())&(~df['sex'].isnull()))"
   ]
  },
  {
   "cell_type": "code",
   "execution_count": 28,
   "metadata": {},
   "outputs": [
    {
     "name": "stderr",
     "output_type": "stream",
     "text": [
      "C:\\Users\\KAMAL\\AppData\\Local\\Temp\\ipykernel_6420\\1798263649.py:1: UserWarning: Boolean Series key will be reindexed to match DataFrame index.\n",
      "  data = df[missing][~df['body_weight'].isnull()]\n"
     ]
    }
   ],
   "source": [
    "data = df[missing][~df['body_weight'].isnull()]"
   ]
  },
  {
   "cell_type": "code",
   "execution_count": 29,
   "metadata": {},
   "outputs": [],
   "source": [
    "total_data = data[['race', 'age', 'sex', 'hbp', 'body_weight']].values"
   ]
  },
  {
   "cell_type": "code",
   "execution_count": 30,
   "metadata": {},
   "outputs": [
    {
     "name": "stderr",
     "output_type": "stream",
     "text": [
      "C:\\Users\\KAMAL\\AppData\\Local\\Temp\\ipykernel_6420\\3950539814.py:4: UserWarning: Boolean Series key will be reindexed to match DataFrame index.\n",
      "  replace = df[missing][df['body_weight'].isnull()][['race', 'age', 'sex', 'hbp']].values\n",
      "C:\\Users\\KAMAL\\AppData\\Local\\Temp\\ipykernel_6420\\3950539814.py:6: UserWarning: Boolean Series key will be reindexed to match DataFrame index.\n",
      "  for idx, val in enumerate(df[missing][df['body_weight'].isnull()].index):\n"
     ]
    }
   ],
   "source": [
    "x_train, x_test, y_train, y_test = train_test_split(total_data[:,:-1], total_data[:,-1], test_size=.33, random_state=0)\n",
    "regr = linear_model.LinearRegression()\n",
    "regr.fit(x_train, y_train)\n",
    "replace = df[missing][df['body_weight'].isnull()][['race', 'age', 'sex', 'hbp']].values\n",
    "new_values = regr.predict(replace)\n",
    "for idx, val in enumerate(df[missing][df['body_weight'].isnull()].index):\n",
    "    df.loc[val, 'body_weight'] = new_values[idx]"
   ]
  },
  {
   "cell_type": "markdown",
   "metadata": {},
   "source": [
    "<h3>Use age, sex, race & weight to predict height</h3>"
   ]
  },
  {
   "cell_type": "code",
   "execution_count": 31,
   "metadata": {},
   "outputs": [
    {
     "name": "stdout",
     "output_type": "stream",
     "text": [
      "0.5467834826488831\n"
     ]
    },
    {
     "name": "stderr",
     "output_type": "stream",
     "text": [
      "C:\\Users\\KAMAL\\AppData\\Local\\Temp\\ipykernel_6420\\582415964.py:2: UserWarning: Boolean Series key will be reindexed to match DataFrame index.\n",
      "  data = df[missing][~df['height'].isnull()]\n"
     ]
    }
   ],
   "source": [
    "missing = ((~df['race'].isnull())&(~df['age'].isnull())&(~df['sex'].isnull())&(~df['body_weight'].isnull()))\n",
    "data = df[missing][~df['height'].isnull()]\n",
    "total_data = data[['race', 'age', 'sex', 'body_weight', 'height']].values\n",
    "x_train, x_test, y_train, y_test = train_test_split(total_data[:,:-1], total_data[:,-1], test_size=.33, random_state=0)\n",
    "regr = linear_model.LinearRegression()\n",
    "regr.fit(x_train, y_train)\n",
    "print(regr.score(x_test, y_test))"
   ]
  },
  {
   "cell_type": "markdown",
   "metadata": {},
   "source": [
    "Much better than trying to predict weight"
   ]
  },
  {
   "cell_type": "code",
   "execution_count": 32,
   "metadata": {},
   "outputs": [
    {
     "name": "stderr",
     "output_type": "stream",
     "text": [
      "C:\\Users\\KAMAL\\AppData\\Local\\Temp\\ipykernel_6420\\3100255967.py:1: UserWarning: Boolean Series key will be reindexed to match DataFrame index.\n",
      "  replace = df[missing][df['height'].isnull()][['race', 'age', 'sex', 'body_weight']].values\n",
      "C:\\Users\\KAMAL\\AppData\\Local\\Temp\\ipykernel_6420\\3100255967.py:3: UserWarning: Boolean Series key will be reindexed to match DataFrame index.\n",
      "  for idx, val in enumerate(df[missing][df['height'].isnull()].index):\n"
     ]
    }
   ],
   "source": [
    "replace = df[missing][df['height'].isnull()][['race', 'age', 'sex', 'body_weight']].values\n",
    "new_values = regr.predict(replace)\n",
    "for idx, val in enumerate(df[missing][df['height'].isnull()].index):\n",
    "    df.loc[val, 'height'] = new_values[idx]"
   ]
  },
  {
   "cell_type": "markdown",
   "metadata": {},
   "source": [
    "<h3>Predict race</h3>"
   ]
  },
  {
   "cell_type": "code",
   "execution_count": 33,
   "metadata": {},
   "outputs": [],
   "source": [
    "data = df[~df['race'].isnull()]\n",
    "total_data = data[['age', 'sex', 'body_weight', 'height', 'smoking', 'race']].values\n",
    "x_train, x_test, y_train, y_test = train_test_split(total_data[:,:-1], total_data[:,-1], test_size=.33, random_state=0)\n",
    "regr = linear_model.LinearRegression()\n",
    "regr.fit(x_train, y_train)\n",
    "replace = df[df['race'].isnull()][['age', 'sex', 'body_weight', 'height', 'smoking']].values\n",
    "new_values = regr.predict(replace)\n",
    "for idx, val in enumerate(df[df['race'].isnull()].index):\n",
    "    df.loc[val, 'race'] = new_values[idx]"
   ]
  },
  {
   "cell_type": "markdown",
   "metadata": {},
   "source": [
    "<h3>Predict if that one person currently smokes or not</h3>"
   ]
  },
  {
   "cell_type": "code",
   "execution_count": 34,
   "metadata": {},
   "outputs": [
    {
     "name": "stdout",
     "output_type": "stream",
     "text": [
      "0.8398576512455516\n"
     ]
    }
   ],
   "source": [
    "data = df[~df['smoking'].isnull()]\n",
    "total_data = data[['age', 'sex', 'body_weight', 'height', 'race', 'smoked_alot', 'smoking']].values\n",
    "x_train, x_test, y_train, y_test = train_test_split(total_data[:,:-1], total_data[:,-1], test_size=.33, random_state=0)\n",
    "\n",
    "from sklearn.naive_bayes import GaussianNB\n",
    "gnb = GaussianNB()\n",
    "gnb = gnb.fit(x_train, y_train)\n",
    "y_pred  = gnb.predict(x_test)\n",
    "\n",
    "from sklearn import metrics\n",
    "print(metrics.accuracy_score(y_test, y_pred))\n",
    "\n"
   ]
  },
  {
   "cell_type": "markdown",
   "metadata": {},
   "source": [
    "Pretty good"
   ]
  },
  {
   "cell_type": "markdown",
   "metadata": {},
   "source": [
    "<h3>Predict cholesterol</h3>"
   ]
  },
  {
   "cell_type": "code",
   "execution_count": 35,
   "metadata": {},
   "outputs": [],
   "source": [
    "replace = df[df['smoking'].isnull()][['age', 'sex', 'body_weight', 'height', 'race', 'smoked_alot']].values\n",
    "new_values = gnb.predict(replace)\n",
    "for idx, val in enumerate(df[df['smoking'].isnull()].index):\n",
    "    df.loc[val, 'smoking'] = new_values[idx]"
   ]
  },
  {
   "cell_type": "markdown",
   "metadata": {},
   "source": [
    "<h3>Predict systolic bp</h3>"
   ]
  },
  {
   "cell_type": "code",
   "execution_count": 36,
   "metadata": {},
   "outputs": [
    {
     "ename": "ValueError",
     "evalue": "Input contains NaN, infinity or a value too large for dtype('float64').",
     "output_type": "error",
     "traceback": [
      "\u001b[1;31m---------------------------------------------------------------------------\u001b[0m",
      "\u001b[1;31mValueError\u001b[0m                                Traceback (most recent call last)",
      "\u001b[1;32m~\\AppData\\Local\\Temp\\ipykernel_6420\\3402316363.py\u001b[0m in \u001b[0;36m<module>\u001b[1;34m\u001b[0m\n\u001b[0;32m      5\u001b[0m random_state=0)\n\u001b[0;32m      6\u001b[0m \u001b[0mregr\u001b[0m \u001b[1;33m=\u001b[0m \u001b[0mlinear_model\u001b[0m\u001b[1;33m.\u001b[0m\u001b[0mLinearRegression\u001b[0m\u001b[1;33m(\u001b[0m\u001b[1;33m)\u001b[0m\u001b[1;33m\u001b[0m\u001b[1;33m\u001b[0m\u001b[0m\n\u001b[1;32m----> 7\u001b[1;33m \u001b[0mregr\u001b[0m\u001b[1;33m.\u001b[0m\u001b[0mfit\u001b[0m\u001b[1;33m(\u001b[0m\u001b[0mx_train\u001b[0m\u001b[1;33m,\u001b[0m \u001b[0my_train\u001b[0m\u001b[1;33m)\u001b[0m\u001b[1;33m\u001b[0m\u001b[1;33m\u001b[0m\u001b[0m\n\u001b[0m\u001b[0;32m      8\u001b[0m replace = df[df['avg_systolic_bp'].isnull()][['age', 'sex', 'body_weight', 'height', 'smoking', 'race',\n\u001b[0;32m      9\u001b[0m                             'serum_cholesterol']].values\n",
      "\u001b[1;32m~\\ana\\anaconda3\\lib\\site-packages\\sklearn\\linear_model\\_base.py\u001b[0m in \u001b[0;36mfit\u001b[1;34m(self, X, y, sample_weight)\u001b[0m\n\u001b[0;32m    660\u001b[0m         \u001b[0maccept_sparse\u001b[0m \u001b[1;33m=\u001b[0m \u001b[1;32mFalse\u001b[0m \u001b[1;32mif\u001b[0m \u001b[0mself\u001b[0m\u001b[1;33m.\u001b[0m\u001b[0mpositive\u001b[0m \u001b[1;32melse\u001b[0m \u001b[1;33m[\u001b[0m\u001b[1;34m\"csr\"\u001b[0m\u001b[1;33m,\u001b[0m \u001b[1;34m\"csc\"\u001b[0m\u001b[1;33m,\u001b[0m \u001b[1;34m\"coo\"\u001b[0m\u001b[1;33m]\u001b[0m\u001b[1;33m\u001b[0m\u001b[1;33m\u001b[0m\u001b[0m\n\u001b[0;32m    661\u001b[0m \u001b[1;33m\u001b[0m\u001b[0m\n\u001b[1;32m--> 662\u001b[1;33m         X, y = self._validate_data(\n\u001b[0m\u001b[0;32m    663\u001b[0m             \u001b[0mX\u001b[0m\u001b[1;33m,\u001b[0m \u001b[0my\u001b[0m\u001b[1;33m,\u001b[0m \u001b[0maccept_sparse\u001b[0m\u001b[1;33m=\u001b[0m\u001b[0maccept_sparse\u001b[0m\u001b[1;33m,\u001b[0m \u001b[0my_numeric\u001b[0m\u001b[1;33m=\u001b[0m\u001b[1;32mTrue\u001b[0m\u001b[1;33m,\u001b[0m \u001b[0mmulti_output\u001b[0m\u001b[1;33m=\u001b[0m\u001b[1;32mTrue\u001b[0m\u001b[1;33m\u001b[0m\u001b[1;33m\u001b[0m\u001b[0m\n\u001b[0;32m    664\u001b[0m         )\n",
      "\u001b[1;32m~\\ana\\anaconda3\\lib\\site-packages\\sklearn\\base.py\u001b[0m in \u001b[0;36m_validate_data\u001b[1;34m(self, X, y, reset, validate_separately, **check_params)\u001b[0m\n\u001b[0;32m    579\u001b[0m                 \u001b[0my\u001b[0m \u001b[1;33m=\u001b[0m \u001b[0mcheck_array\u001b[0m\u001b[1;33m(\u001b[0m\u001b[0my\u001b[0m\u001b[1;33m,\u001b[0m \u001b[1;33m**\u001b[0m\u001b[0mcheck_y_params\u001b[0m\u001b[1;33m)\u001b[0m\u001b[1;33m\u001b[0m\u001b[1;33m\u001b[0m\u001b[0m\n\u001b[0;32m    580\u001b[0m             \u001b[1;32melse\u001b[0m\u001b[1;33m:\u001b[0m\u001b[1;33m\u001b[0m\u001b[1;33m\u001b[0m\u001b[0m\n\u001b[1;32m--> 581\u001b[1;33m                 \u001b[0mX\u001b[0m\u001b[1;33m,\u001b[0m \u001b[0my\u001b[0m \u001b[1;33m=\u001b[0m \u001b[0mcheck_X_y\u001b[0m\u001b[1;33m(\u001b[0m\u001b[0mX\u001b[0m\u001b[1;33m,\u001b[0m \u001b[0my\u001b[0m\u001b[1;33m,\u001b[0m \u001b[1;33m**\u001b[0m\u001b[0mcheck_params\u001b[0m\u001b[1;33m)\u001b[0m\u001b[1;33m\u001b[0m\u001b[1;33m\u001b[0m\u001b[0m\n\u001b[0m\u001b[0;32m    582\u001b[0m             \u001b[0mout\u001b[0m \u001b[1;33m=\u001b[0m \u001b[0mX\u001b[0m\u001b[1;33m,\u001b[0m \u001b[0my\u001b[0m\u001b[1;33m\u001b[0m\u001b[1;33m\u001b[0m\u001b[0m\n\u001b[0;32m    583\u001b[0m \u001b[1;33m\u001b[0m\u001b[0m\n",
      "\u001b[1;32m~\\ana\\anaconda3\\lib\\site-packages\\sklearn\\utils\\validation.py\u001b[0m in \u001b[0;36mcheck_X_y\u001b[1;34m(X, y, accept_sparse, accept_large_sparse, dtype, order, copy, force_all_finite, ensure_2d, allow_nd, multi_output, ensure_min_samples, ensure_min_features, y_numeric, estimator)\u001b[0m\n\u001b[0;32m    962\u001b[0m         \u001b[1;32mraise\u001b[0m \u001b[0mValueError\u001b[0m\u001b[1;33m(\u001b[0m\u001b[1;34m\"y cannot be None\"\u001b[0m\u001b[1;33m)\u001b[0m\u001b[1;33m\u001b[0m\u001b[1;33m\u001b[0m\u001b[0m\n\u001b[0;32m    963\u001b[0m \u001b[1;33m\u001b[0m\u001b[0m\n\u001b[1;32m--> 964\u001b[1;33m     X = check_array(\n\u001b[0m\u001b[0;32m    965\u001b[0m         \u001b[0mX\u001b[0m\u001b[1;33m,\u001b[0m\u001b[1;33m\u001b[0m\u001b[1;33m\u001b[0m\u001b[0m\n\u001b[0;32m    966\u001b[0m         \u001b[0maccept_sparse\u001b[0m\u001b[1;33m=\u001b[0m\u001b[0maccept_sparse\u001b[0m\u001b[1;33m,\u001b[0m\u001b[1;33m\u001b[0m\u001b[1;33m\u001b[0m\u001b[0m\n",
      "\u001b[1;32m~\\ana\\anaconda3\\lib\\site-packages\\sklearn\\utils\\validation.py\u001b[0m in \u001b[0;36mcheck_array\u001b[1;34m(array, accept_sparse, accept_large_sparse, dtype, order, copy, force_all_finite, ensure_2d, allow_nd, ensure_min_samples, ensure_min_features, estimator)\u001b[0m\n\u001b[0;32m    798\u001b[0m \u001b[1;33m\u001b[0m\u001b[0m\n\u001b[0;32m    799\u001b[0m         \u001b[1;32mif\u001b[0m \u001b[0mforce_all_finite\u001b[0m\u001b[1;33m:\u001b[0m\u001b[1;33m\u001b[0m\u001b[1;33m\u001b[0m\u001b[0m\n\u001b[1;32m--> 800\u001b[1;33m             \u001b[0m_assert_all_finite\u001b[0m\u001b[1;33m(\u001b[0m\u001b[0marray\u001b[0m\u001b[1;33m,\u001b[0m \u001b[0mallow_nan\u001b[0m\u001b[1;33m=\u001b[0m\u001b[0mforce_all_finite\u001b[0m \u001b[1;33m==\u001b[0m \u001b[1;34m\"allow-nan\"\u001b[0m\u001b[1;33m)\u001b[0m\u001b[1;33m\u001b[0m\u001b[1;33m\u001b[0m\u001b[0m\n\u001b[0m\u001b[0;32m    801\u001b[0m \u001b[1;33m\u001b[0m\u001b[0m\n\u001b[0;32m    802\u001b[0m     \u001b[1;32mif\u001b[0m \u001b[0mensure_min_samples\u001b[0m \u001b[1;33m>\u001b[0m \u001b[1;36m0\u001b[0m\u001b[1;33m:\u001b[0m\u001b[1;33m\u001b[0m\u001b[1;33m\u001b[0m\u001b[0m\n",
      "\u001b[1;32m~\\ana\\anaconda3\\lib\\site-packages\\sklearn\\utils\\validation.py\u001b[0m in \u001b[0;36m_assert_all_finite\u001b[1;34m(X, allow_nan, msg_dtype)\u001b[0m\n\u001b[0;32m    112\u001b[0m         ):\n\u001b[0;32m    113\u001b[0m             \u001b[0mtype_err\u001b[0m \u001b[1;33m=\u001b[0m \u001b[1;34m\"infinity\"\u001b[0m \u001b[1;32mif\u001b[0m \u001b[0mallow_nan\u001b[0m \u001b[1;32melse\u001b[0m \u001b[1;34m\"NaN, infinity\"\u001b[0m\u001b[1;33m\u001b[0m\u001b[1;33m\u001b[0m\u001b[0m\n\u001b[1;32m--> 114\u001b[1;33m             raise ValueError(\n\u001b[0m\u001b[0;32m    115\u001b[0m                 msg_err.format(\n\u001b[0;32m    116\u001b[0m                     \u001b[0mtype_err\u001b[0m\u001b[1;33m,\u001b[0m \u001b[0mmsg_dtype\u001b[0m \u001b[1;32mif\u001b[0m \u001b[0mmsg_dtype\u001b[0m \u001b[1;32mis\u001b[0m \u001b[1;32mnot\u001b[0m \u001b[1;32mNone\u001b[0m \u001b[1;32melse\u001b[0m \u001b[0mX\u001b[0m\u001b[1;33m.\u001b[0m\u001b[0mdtype\u001b[0m\u001b[1;33m\u001b[0m\u001b[1;33m\u001b[0m\u001b[0m\n",
      "\u001b[1;31mValueError\u001b[0m: Input contains NaN, infinity or a value too large for dtype('float64')."
     ]
    }
   ],
   "source": [
    "data = df[~df['avg_systolic_bp'].isnull()]\n",
    "total_data = data[['age', 'sex', 'body_weight', 'height', 'smoking', 'race', 'serum_cholesterol',\n",
    "                    'avg_systolic_bp']].values\n",
    "x_train, x_test, y_train, y_test = train_test_split(total_data[:,:-1], total_data[:,-1], test_size=.33,\n",
    "random_state=0)\n",
    "regr = linear_model.LinearRegression()\n",
    "regr.fit(x_train, y_train)\n",
    "replace = df[df['avg_systolic_bp'].isnull()][['age', 'sex', 'body_weight', 'height', 'smoking', 'race',\n",
    "                            'serum_cholesterol']].values\n",
    "new_values = regr.predict(replace)\n",
    "for idx, val in enumerate(df[df['avg_systolic_bp'].isnull()].index):\n",
    "    df.loc[val, 'avg_systolic_bp'] = new_values[idx]"
   ]
  },
  {
   "cell_type": "markdown",
   "metadata": {},
   "source": [
    "<h3>Predict diastolic bp</h3>"
   ]
  },
  {
   "cell_type": "code",
   "execution_count": null,
   "metadata": {},
   "outputs": [],
   "source": [
    "data = df[~df['avg_diastolic_bp'].isnull()]\n",
    "total_data = data[['age', 'sex', 'body_weight', 'height', 'smoking', 'race', 'serum_cholesterol', 'avg_systolic_bp', \n",
    "                  'avg_diastolic_bp']].values\n",
    "x_train, x_test, y_train, y_test = train_test_split(total_data[:,:-1], total_data[:,-1], test_size=.33, random_state=0)\n",
    "regr = linear_model.LinearRegression()\n",
    "regr.fit(x_train, y_train)\n",
    "replace = df[df['avg_diastolic_bp'].isnull()][['age', 'sex', 'body_weight', 'height', 'smoking', 'race', \n",
    "                                                'serum_cholesterol', 'avg_systolic_bp']].values\n",
    "new_values = regr.predict(replace)\n",
    "for idx, val in enumerate(df[df['avg_diastolic_bp'].isnull()].index):\n",
    "    df.loc[val, 'avg_diastolic_bp'] = new_values[idx]"
   ]
  },
  {
   "cell_type": "markdown",
   "metadata": {},
   "source": [
    "<h2>Feature Engineering</h2>"
   ]
  },
  {
   "cell_type": "markdown",
   "metadata": {},
   "source": [
    "HBP is defined as diastolic bp being 90 or higher, not just systolic being 140 or higher"
   ]
  },
  {
   "cell_type": "code",
   "execution_count": null,
   "metadata": {},
   "outputs": [],
   "source": [
    "df['true_hbp'] = df['hbp']"
   ]
  },
  {
   "cell_type": "code",
   "execution_count": null,
   "metadata": {
    "scrolled": true
   },
   "outputs": [],
   "source": [
    "df.loc[(df['hbp'] == 0)&(df['avg_diastolic_bp'] >= 90), 'true_hbp'] = 1"
   ]
  },
  {
   "cell_type": "code",
   "execution_count": null,
   "metadata": {},
   "outputs": [],
   "source": [
    "df.head()"
   ]
  },
  {
   "cell_type": "markdown",
   "metadata": {},
   "source": [
    "Create a new feature: BMI"
   ]
  },
  {
   "cell_type": "code",
   "execution_count": null,
   "metadata": {},
   "outputs": [],
   "source": [
    "df['BMI'] = (df['body_weight'] / (df['height'] ** 2)) * 703"
   ]
  },
  {
   "cell_type": "code",
   "execution_count": null,
   "metadata": {},
   "outputs": [],
   "source": [
    "df.head()"
   ]
  },
  {
   "cell_type": "markdown",
   "metadata": {},
   "source": [
    "<h3>Do some basic predictions on the data</h3>"
   ]
  },
  {
   "cell_type": "code",
   "execution_count": null,
   "metadata": {},
   "outputs": [],
   "source": [
    "total_data = df[['age', 'sex', 'body_weight', 'height', 'race', 'smoking', 'serum_cholesterol', 'hbp']].values\n",
    "x_train, x_test, y_train, y_test = train_test_split(total_data[:, :-1], total_data[:, -1], test_size=.33, random_state=0)"
   ]
  },
  {
   "cell_type": "markdown",
   "metadata": {},
   "source": [
    "<h3>Makes some pretty graphs</h3>"
   ]
  },
  {
   "cell_type": "code",
   "execution_count": null,
   "metadata": {},
   "outputs": [],
   "source": [
    "%matplotlib inline\n",
    "import matplotlib.pyplot as plt"
   ]
  },
  {
   "cell_type": "code",
   "execution_count": null,
   "metadata": {},
   "outputs": [],
   "source": [
    "plt.scatter(total_data[:100, 0], total_data[:100, -1])\n",
    "plt.title('Age vs HBP')\n",
    "plt.ylabel('HBP')\n",
    "plt.xlabel('Age')\n",
    "plt.show()"
   ]
  },
  {
   "cell_type": "code",
   "execution_count": null,
   "metadata": {},
   "outputs": [],
   "source": []
  },
  {
   "cell_type": "code",
   "execution_count": null,
   "metadata": {},
   "outputs": [],
   "source": [
    "x_train[:, 0]"
   ]
  },
  {
   "cell_type": "code",
   "execution_count": null,
   "metadata": {},
   "outputs": [],
   "source": [
    "plt.scatter(total_data[:100, 2], total_data[:100, -1])\n",
    "plt.title('Body Weight vs HBP')\n",
    "plt.ylabel('HBP')\n",
    "plt.xlabel('Body Weight')\n",
    "plt.show()"
   ]
  },
  {
   "cell_type": "code",
   "execution_count": null,
   "metadata": {
    "scrolled": true
   },
   "outputs": [],
   "source": [
    "plt.scatter(total_data[:200, 6], total_data[:200, -1])\n",
    "plt.title('Cholesterol vs HBP')\n",
    "plt.ylabel('HBP')\n",
    "plt.xlabel('Cholesterol')\n",
    "plt.show()"
   ]
  },
  {
   "cell_type": "code",
   "execution_count": null,
   "metadata": {},
   "outputs": [],
   "source": [
    "plt.scatter(total_data[:100, 2], total_data[:100, -1])\n",
    "plt.title('Height vs HBP')\n",
    "plt.ylabel('HBP')\n",
    "plt.xlabel('Height vs HBP')\n",
    "plt.show()"
   ]
  },
  {
   "cell_type": "code",
   "execution_count": null,
   "metadata": {},
   "outputs": [],
   "source": []
  },
  {
   "cell_type": "code",
   "execution_count": null,
   "metadata": {},
   "outputs": [],
   "source": [
    "df[df['avg_diastolic_bp'] > 90]"
   ]
  },
  {
   "cell_type": "code",
   "execution_count": null,
   "metadata": {},
   "outputs": [],
   "source": [
    "total_data[:, 1]\n"
   ]
  },
  {
   "cell_type": "markdown",
   "metadata": {},
   "source": [
    "<h3>Logistic Regression</h3>"
   ]
  },
  {
   "cell_type": "code",
   "execution_count": null,
   "metadata": {},
   "outputs": [],
   "source": [
    "from sklearn.linear_model import LogisticRegression\n",
    "y_pred = LogisticRegression().fit(x_train, y_train).predict(x_test)"
   ]
  },
  {
   "cell_type": "code",
   "execution_count": null,
   "metadata": {},
   "outputs": [],
   "source": [
    "print(metrics.accuracy_score(y_test, y_pred))\n",
    "classification_report(y_test, y_pred, target_names=target_names)"
   ]
  },
  {
   "cell_type": "markdown",
   "metadata": {},
   "source": [
    "Recall is much worse than above, many more false negatives"
   ]
  },
  {
   "cell_type": "markdown",
   "metadata": {},
   "source": [
    "# Random Forest"
   ]
  },
  {
   "cell_type": "code",
   "execution_count": null,
   "metadata": {},
   "outputs": [],
   "source": [
    "from sklearn.ensemble import RandomForestClassifier\n",
    "forest = RandomForestClassifier(n_estimators=100)\n",
    "forest.fit(x_train, y_train)\n",
    "y_pred = forest.predict(x_test)"
   ]
  },
  {
   "cell_type": "code",
   "execution_count": null,
   "metadata": {},
   "outputs": [],
   "source": [
    "print(metrics.accuracy_score(y_test, y_pred))\n",
    "classification_report(y_test, y_pred, target_names=target_names)"
   ]
  }
 ],
 "metadata": {
  "kernelspec": {
   "display_name": "Python 3 (ipykernel)",
   "language": "python",
   "name": "python3"
  },
  "language_info": {
   "codemirror_mode": {
    "name": "ipython",
    "version": 3
   },
   "file_extension": ".py",
   "mimetype": "text/x-python",
   "name": "python",
   "nbconvert_exporter": "python",
   "pygments_lexer": "ipython3",
   "version": "3.9.13"
  }
 },
 "nbformat": 4,
 "nbformat_minor": 1
}
